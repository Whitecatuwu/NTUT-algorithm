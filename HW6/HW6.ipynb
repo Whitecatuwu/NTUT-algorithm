{
 "cells": [
  {
   "cell_type": "markdown",
   "id": "61a0c2b7-1f77-452f-8aaf-cf693c654c42",
   "metadata": {},
   "source": [
    "# Assignment 06 – In-place mergesort of list and genericity"
   ]
  },
  {
   "cell_type": "markdown",
   "id": "fc20a675-b91a-4e81-95ba-5d7edc44b514",
   "metadata": {},
   "source": [
    "## Goal\n",
    "Implement merge sort in place of generic linked lists, and apply it to calculating the word distri-\n",
    "bution of a text (function that returns the number of occurrences of a word in a text), and to\n",
    "calculating a median value of a set of numeric values.\n",
    "\n",
    "## Source recovery\n",
    "Extract the contents of the `src.zip` file to the project’s src directory. Extract the contents of the\n",
    "text.zip file to the project’s root directory.\n",
    "\n",
    "## Enable assert in your Java virtual machine\n",
    "In Visual Studio Code, type the key combination [ Ctrl ]+[ , ] (the second key is ‘comma’), enter\n",
    "vm args in the search bar. The item `Java>Debug>settings: Vm Args` appears with a text bar in\n",
    "which you must write `-ea` (for enable asserts ).\n",
    "\n",
    "As before. Submit the HW6.java"
   ]
  },
  {
   "cell_type": "markdown",
   "id": "2f8f6027-b158-4e8d-8868-a7d8bf902be8",
   "metadata": {},
   "source": [
    "# 1 Linked lists"
   ]
  },
  {
   "cell_type": "markdown",
   "id": "1cffd4e6-ea17-483d-ba30-3b500710da26",
   "metadata": {},
   "source": [
    "The class `Singly<E>`, written in the file `HW6.java`, implements linked lists of objects of class **E** .\n",
    "We choose to represent the empty list by the value `null`. Each object has two public fields:\n",
    "- `E element`, the content of a cell in the list;\n",
    "- `Singly<E> next`, the rest of the list.\n",
    "\n",
    "The class `Singly<E>` offers a constructor\n",
    "- `Singly(E element, Singly<E> next)`\n",
    "as well as other methods used in the tests, which you can ignore."
   ]
  },
  {
   "cell_type": "markdown",
   "id": "1778b3bf-235a-4e62-94c4-08853edfb343",
   "metadata": {},
   "source": [
    "## Question 1: Complete the methods\n",
    "- `static<E> int length(Singly<E> l)` which returns the length of its argument.\n",
    "Note: to avoid a stack overflow (i.e. StackOverflowError ), we will write a loop rather than\n",
    "a recursive method.\n",
    "\n",
    "- `static<E> Singly<E> split(Singly<E> l)` which cuts the *non-empty* list **l** into two equal\n",
    "halves and returns the second half. In particular, the size of the list l passed as argument\n",
    "is halved. By convention, if the length of the string is odd, the first half contains one more\n",
    "element than the second.\n",
    "\n",
    "The `split` method works in place: we go through half of the list and return the contents of\n",
    "the next field of the element we stopped on, while setting the value of this same field to `null`\n",
    ", which has the effect of “cutting” the list.\n",
    "\n",
    "\n",
    "<div>\n",
    "<img src=\"Figure1.png\" width=\"500\"/>\n",
    "</div>\n",
    "\n",
    "Here again, we will write a loop rather than a recursive method.\n",
    "\n",
    "Test your code by running the `Test1`."
   ]
  },
  {
   "cell_type": "markdown",
   "id": "9b78a501-f449-44fb-9d41-f223fbf1ad8f",
   "metadata": {},
   "source": [
    "# 2 In-place mergesort of linked lists of strings\n",
    "We will now manipulate lists of character strings , in other words objects of the class `Singly<String>`.\n",
    "\n",
    "## 2.1 Principle of the in-place mergesort\n",
    "Merging (**merge**) two ordered linked lists l1 and l2 in place is done without creating or destroying\n",
    "any cells. As the following Figure 2 suggests, the algorithm only modifies, as needed, the pointers\n",
    "that point to the next cells. In particular, lists l1 and l2 are destroyed.\n",
    "\n",
    "<div>\n",
    "<img src=\"Figure2.png\" width=\"500\"/>\n",
    "</div>\n",
    "\n",
    "## 2.2 Implementation\n",
    "The linked lists l1 and l2 are two “reserves” whose elements are “taken” to “put” them in an\n",
    "auxiliary list result (i.e. a pointer to the head of the list that will have to be returned). The\n",
    "algorithm is therefore as follows:\n",
    "\n",
    "- Initialization :\n",
    "\n",
    "    – *if one of the “reserves” is empty*, the other is returned,\n",
    "\n",
    "    – otherwise, we initialize a linked list result in which we “put” the smallest of the elements\n",
    "      `l1.element` and `l2.element`. We also create a variable last which, *at the beginning of\n",
    "      each iteration*, must point to the last link of the list `result`.\n",
    "  \n",
    "- Iteration :\n",
    "\n",
    "    – as long as none of the “reserves” are empty, we “take” the smallest of the elements\n",
    "    `l1.element` and `l2.element` to “put” it at the end of the list `result`,\n",
    "\n",
    "    – and as soon as one of the two “reserves” is empty, we stop by returning the concatenation\n",
    "    of the `result` list and the other “reserve”.\n",
    "\n",
    "\n",
    "**Hint:** “Take” the first element of a list x to “put” it at the end of a list result whose last link\n",
    "is pointed by last is done by modifying four pointers, as suggested in the diagram below. In\n",
    "particular, you must not create new cells, i.e., do not use instructions `new Singly<String>`.\n",
    "\n",
    "<div>\n",
    "<img src=\"Figure3.png\" width=\"500\"/>\n",
    "</div>\n",
    "\n",
    "**Caution:** although logically equivalent, the tests `length(l) == 0 and l == null` do not have the\n",
    "same algorithmic complexity: make the right choice!\n",
    "\n",
    "**Question 2.2:** In the `MergeSortString` class, complete the following static methods:\n",
    "\n",
    "- `static Singly<String>` `merge(Singly<String> l1, Singly<String> l2)` performs the\n",
    "merge of two ordered linked lists according to the algorithm described above. In particular,\n",
    "the two lists passed as arguments are destroyed. Remember that the strings must be compared\n",
    "using the `compareTo` method. To avoid causing a stack overflow (i.e. `StackOverflowError`\n",
    "), we will write a loop rather than a recursive method.\n",
    "\n",
    "- `static Singly <String>` `sort(Singly <String> l)` performs the merge sort in place of\n",
    "the list passed as an argument. The latter is therefore destroyed. This time, we can easily\n",
    "write a recursive method, because the size of the list is divided by two each time.\n",
    "\n",
    "Note that this class contains only static methods.\n",
    "\n",
    "Run the `Test22` which tests the merge and sort methods.\n",
    "\n",
    "## 2.3 Application: number of appearances of words in a text\n",
    "Each object of the Occurrence class has the fields:\n",
    "- String word\n",
    "- int count\n",
    "\n",
    "**Question 2.3:** In the Occurrence class , complete the method\n",
    "- static Singly\\<Occurrence> count(Singly\\<String> l)\n",
    "\n",
    "which returns the list of words present in a list with their multiplicity. We will start by sorting the\n",
    "list passed as an argument, so that identical words are consecutive. No order is specified for the\n",
    "returned list. Test your code by running `Test23.`\n"
   ]
  },
  {
   "cell_type": "markdown",
   "id": "cc6d96c0-105e-4d04-8622-7d7ad92391f1",
   "metadata": {},
   "source": [
    "# 3 Merge sort in place of any linked lists\n",
    "\n",
    "We can sort the elements of a list as long as they are *totally ordered*, in other words, as long as\n",
    "their class implements the `Comparable` interface .\n",
    "\n",
    "## 3.1 Generic implementation\n",
    "`Question 3.1:` Adapt the code of the `MergeSortString` class to complete the following methods\n",
    "in the `MergeSort` class :\n",
    "\n",
    "- static<E extends Comparable\\<E>> Singly\\<E> merge(Singly\\<E> l1, Singly\\<E> l2)\n",
    "\n",
    "- static<E extends Comparable\\<E>> Singly\\<E> sort(Singly\\<E> l)\n",
    "\n",
    "Run the program contained in `Test31` to test the generic `merge` and `sort` methods.\n",
    "\n",
    "## 3.2 Application: most frequent words\n",
    "`Question 3.2:` Using the *generic* `sort` method (which sorts the elements of a list in ascending\n",
    "order) to complete the following methods in the `Occurrence` class :\n",
    "\n",
    "- `static Singly<Occurrence> sortedCount(Singly<String> l)` which returns the list of\n",
    "words present in the text with their multiplicity so that the most frequent words (i.e. those\n",
    "with the greatest multiplicity) are at the beginning of the list. In addition, with equal\n",
    "multiplicity, we want the words to appear in lexicographical order.\n",
    "\n",
    "To do this, you must complete, in the `Occurrence class` , the method\n",
    "\n",
    "- `public int compareTo(Occurrence that)` which returns a strictly negative (resp. positive)\n",
    "value when this is strictly smaller (resp. larger) than that, and zero only when this and\n",
    "that are equal. Here, “small/large” must be interpreted according to the order in which we\n",
    "want the occurrences to be listed.\n",
    "\n",
    "**Caution:** The header class `Occurrence implements Comparable<Occurrence>` tells the compiler that objects of the `Occurrence` class are ordered.\n",
    "\n",
    "Test your code by running the program contained in `Test32`. The test takes a fewseconds to run.\n",
    "\n",
    "### 3.3 Application: median value of a list of floats\n",
    "We now propose to apply our generic sorting in a different context.\n",
    "A float m is a *median value* of a list of floats when:\n",
    "\n",
    "- at least half of the elements in the list are *greater than or equal to* m and\n",
    "\n",
    "- at least half of the elements in the list are *less than or equal to* m.\n",
    "\n",
    "We are given the class `Pair`.\n",
    "\n",
    "`Question 3.3`: In the class `Median`, complete the method\n",
    "\n",
    "- `static pair<Double> median (Singly<Double> data)`\n",
    "\n",
    "which returns the range of possible medians as a pair. If the list is empty, the method returns\n",
    "the pair whose two components are equal to the special value `Double.NaN` (an acronym for “Not a\n",
    "Number”). Test your code by running the program contained in `Test33`."
   ]
  },
  {
   "cell_type": "markdown",
   "id": "346f8c73-cace-4a6a-b71e-cd0a2f1a60af",
   "metadata": {
    "editable": false,
    "slideshow": {
     "slide_type": ""
    },
    "tags": []
   },
   "source": [
    "## Dependencies"
   ]
  },
  {
   "cell_type": "code",
   "execution_count": 75,
   "id": "5c9fee23-806f-4142-8784-95d00294d4cf",
   "metadata": {
    "editable": false,
    "slideshow": {
     "slide_type": ""
    },
    "tags": [],
    "vscode": {
     "languageId": "java"
    }
   },
   "outputs": [],
   "source": [
    "import java.io.File;\n",
    "import java.util.Scanner;\n",
    "import java.util.HashMap;\n",
    "import java.util.Set;\n",
    "import java.io.FileNotFoundException;"
   ]
  },
  {
   "cell_type": "code",
   "execution_count": 76,
   "id": "26f02a57-410d-4387-96ed-a6f265626bea",
   "metadata": {
    "editable": false,
    "slideshow": {
     "slide_type": ""
    },
    "tags": [],
    "vscode": {
     "languageId": "java"
    }
   },
   "outputs": [],
   "source": [
    "public class Pair<E> {\n",
    "\n",
    "\tpublic E first, second;\n",
    "\n",
    "\tPair(E first, E second) {\n",
    "\t\tthis.first = first;\n",
    "\t\tthis.second = second;\n",
    "\t}\n",
    "\n",
    "}\n"
   ]
  },
  {
   "cell_type": "code",
   "execution_count": 77,
   "id": "9764df93-05a0-470b-a91c-2bafb9c05e25",
   "metadata": {
    "editable": false,
    "slideshow": {
     "slide_type": ""
    },
    "tags": [],
    "vscode": {
     "languageId": "java"
    }
   },
   "outputs": [],
   "source": [
    "public class TestAssert {\n",
    "    // class handler\n",
    "}\n"
   ]
  },
  {
   "cell_type": "code",
   "execution_count": 78,
   "id": "3772e2c4-5e07-418d-ac26-53f1ee565d48",
   "metadata": {
    "editable": false,
    "slideshow": {
     "slide_type": ""
    },
    "tags": [],
    "vscode": {
     "languageId": "java"
    }
   },
   "outputs": [
    {
     "name": "stdout",
     "output_type": "stream",
     "text": [
      "Asserts are active.\n"
     ]
    }
   ],
   "source": [
    "    //To ensure that asserts are enabled\n",
    "    if (!TestAssert.class.desiredAssertionStatus()) {\n",
    "        System.err.println(\"You must pass the -ea option to the Java Virtual Machine.\");\n",
    "        System.exit(1);\n",
    "      }\n",
    "    System.out.println(\"Asserts are active.\");"
   ]
  },
  {
   "cell_type": "markdown",
   "id": "f197ad56-9abc-49ea-bfcf-0114356f87d8",
   "metadata": {
    "editable": false,
    "slideshow": {
     "slide_type": ""
    },
    "tags": []
   },
   "source": [
    "## Your Code here"
   ]
  },
  {
   "cell_type": "code",
   "execution_count": 79,
   "id": "e397b816-5f07-48e2-a011-ee62bb98115e",
   "metadata": {
    "editable": true,
    "slideshow": {
     "slide_type": ""
    },
    "tags": [],
    "vscode": {
     "languageId": "java"
    }
   },
   "outputs": [],
   "source": [
    "/* \n",
    " * HW6. In place merge sort and generics\n",
    " * this file contains 5 classes:\n",
    " * \t- Singly<E> : generic linked lists,\n",
    " * \t- MergeSortString : merge-sort algorithm for (linked) lists of strings,\n",
    " * \t- Occurrence : word counting of a text,\n",
    " *  - MergeSort : generic merge-sort algorithm (we replace the type «String» by the generic type «E»),\n",
    " *  - Median : calculation of the median of a set of numerical values\n",
    " */\n",
    "\n",
    "/* \n",
    " * Remark: only the constructors and methods whose visibility cannot be reduced are declared \"public\",\n",
    " * here toString and compareTo.\n",
    " */\n",
    "\n",
    "// SINGLY \n",
    "\n",
    "class Singly<E> {\n",
    "\tE element;\n",
    "\tSingly<E> next;\n",
    "\n",
    "\t// we choose to represent the empty list by null, the two constructors that follow cannot\n",
    "\t// therefore build an empty list.\n",
    "\n",
    "\t// create a list with one element.\n",
    "\t\n",
    "\tpublic Singly(E element, Singly<E> next) {\n",
    "\t\tthis.element = element;\n",
    "\t\tthis.next = next;\n",
    "\t}\n",
    "\n",
    "\t// create a list from a non-empty array.\n",
    "\t\n",
    "\tpublic Singly(E[] data) {\n",
    "\t\tassert (data.length > 0) : \"\\nThe constructor Singly(E[] data) cannot be used with an empty array\"\n",
    "\t\t\t\t+ \"\\nbecause we cannot build a non-empty list without data.\";\n",
    "\t\tthis.element = data[0];\n",
    "\t\tthis.next = null;\n",
    "\t\tSingly<E> cursor = this;\n",
    "\t\tfor (int i = 1; i < data.length; i++) {\n",
    "\t\t\tcursor.next = new Singly<E>(data[i], null);\n",
    "\t\t\tcursor = cursor.next;\n",
    "\t\t}\n",
    "\t\t;\n",
    "\t}\n",
    "\n",
    "\t// physical copy of a list (for testing only)\n",
    "\t\n",
    "\tstatic <E> Singly<E> copy(Singly<E> l) {\n",
    "\t\tif (l == null)\n",
    "\t\t\treturn null;\n",
    "\t\tSingly<E> res = new Singly<E>(l.element, l.next);\n",
    "\t\tSingly<E> cursor = res;\n",
    "\t\twhile (l.next != null) {\n",
    "\t\t\tl = l.next;\n",
    "\t\t\tcursor.next = new Singly<E>(l.element, l.next);\n",
    "\t\t\tcursor = cursor.next;\n",
    "\t\t}\n",
    "\t\treturn res;\n",
    "\t}\n",
    "\n",
    "\t// test of equality of two lists\n",
    "\t\n",
    "\tstatic <E> boolean areEqual(Singly<E> chain1, Singly<E> chain2) {\n",
    "\t\twhile (chain1 != null && chain2 != null) {\n",
    "\t\t\tif (!chain1.element.equals(chain2.element))\n",
    "\t\t\t\treturn false;\n",
    "\t\t\tchain1 = chain1.next;\n",
    "\t\t\tchain2 = chain2.next;\n",
    "\t\t}\n",
    "\t\treturn chain1 == chain2;\n",
    "\t}\n",
    "\t\n",
    "\t// create a string from a linked list (necessary for display).\n",
    "\t\n",
    "\tpublic String toString() {\n",
    "\t\tSingly<E> cursor = this;\n",
    "\t\tString answer = \"[ \";\n",
    "\t\twhile (cursor != null) {\n",
    "\t\t\tanswer = answer + (cursor.element).toString() + \" \";\n",
    "\t\t\tcursor = cursor.next;\n",
    "\t\t}\n",
    "\t\tanswer = answer + \"]\";\n",
    "\t\treturn answer;\n",
    "\t}\n",
    "\n",
    "\t// Question 1\n",
    "\t// Length of a list. Iterative implementation to avoid stack overflow.\n",
    "\t\n",
    "\tstatic<E> int length(Singly<E> l) {\n",
    "\t\tif (l == null) return 0;\n",
    "\t\tint answer = 0;\n",
    "\t\tSingly<E> curr = l;\n",
    "\t\twhile(curr.next != null){\n",
    "\t\t\tanswer += 1;\n",
    "\t\t\tcurr = curr.next;\n",
    "\t\t}\n",
    "\t\treturn answer + 1;\n",
    "\t}\n",
    "\t\n",
    "\t// Question 1\n",
    "\t// Cutte the second half of the list passed as an argument,\n",
    "\t// the removed part is returned.\n",
    "\t// The split method therefore modifies the list passed as an argument.\n",
    "\t\n",
    "\tstatic<E> Singly<E> split(Singly<E> l) {\n",
    "\t\tif(l == null) return null;\n",
    "\t\tint len = length(l);\n",
    "\t\tif (len == 1) return null;\n",
    "\t\tif (len == 2){\n",
    "\t\t\tSingly<E> result = l.next;\n",
    "\t\t\tl.next = null;\n",
    "\t\t\treturn result;\n",
    "\t\t}\n",
    "\n",
    "\t\tSingly<E> pre = l;\n",
    "\t\tSingly<E> next = l.next;\n",
    "\t\tfor(int i=1; i < (len+1)/2; i++){\n",
    "\t\t\tpre = next;\n",
    "\t\t\tnext = next.next;\n",
    "\t\t}\n",
    "\t\tpre.next = null;\n",
    "\t\treturn next;\n",
    "\t}\n",
    "}\n",
    "\n",
    "/* MERGE_SORT_STRING */\n",
    "\n",
    "class MergeSortString {\n",
    "\n",
    "\t// Question 2.2\n",
    "\t// Realizes the merge of the two lists passed as arguments, returns the merged list.\n",
    "\t// The two lists passed as arguments are destroyed since the operation\n",
    "\t// is done \"in place\".\n",
    "\t\n",
    "\tstatic Singly<String> merge(Singly<String> l1, Singly<String> l2) {\n",
    "\t\treturn MergeSort.merge(l1,l2);\n",
    "\t}\n",
    "\n",
    "\t// Question 2.2\n",
    "\t// Sort (recursively) the list passed as an argument by sorting each of its two halves separately before merging the two sorted halves.\n",
    "\t// The list passed as an argument is destroyed during the operation.\n",
    "\t\n",
    "\tstatic Singly<String> sort(Singly<String> l) {\n",
    "\t\treturn MergeSort.sort(l);\t\n",
    "\t}\n",
    "\n",
    "}\n",
    "\n",
    "/* OCCURRENCE */\n",
    "\n",
    "class Occurrence implements Comparable<Occurrence> {\n",
    "\tString word;\n",
    "\tint count;\n",
    "\n",
    "\tOccurrence(String word, int count) {\n",
    "\t\tthis.word = word;\n",
    "\t\tthis.count = count;\n",
    "\t}\n",
    "\t\n",
    "\tpublic String toString() {\n",
    "\t\treturn word;\n",
    "\t}\n",
    "\t\n",
    "\t// Question 2.3 :\n",
    "\t// Return a list whose each link contains a word present\n",
    "\t// in the list of words passed as an argument, with its multiplicity.\n",
    "\t// The list passed as an argument can be destroyed.\n",
    "\t\n",
    "\tstatic Singly<Occurrence> count(Singly<String> l) {\n",
    "\t\tif(l == null) return null;\n",
    "\t\tl = MergeSortString.sort(l);\n",
    "\t\tSingly<Occurrence> result = new Singly<Occurrence>(new Occurrence(l.element, 0), null);\n",
    "\t\tSingly<Occurrence> last = result;\n",
    "\n",
    "\t\twhile(l != null){\n",
    "\t\t\tif(l.element.compareTo(last.element.word) == 0){\n",
    "\t\t\t\tlast.element.count += 1;\n",
    "\t\t\t}\n",
    "\t\t\telse{\n",
    "\t\t\t\tlast.next = new Singly<Occurrence>(new Occurrence(l.element, 1), null);\n",
    "\t\t\t\tlast = last.next;\n",
    "\t\t\t}\n",
    "\t\t\tl = l.next;\n",
    "\t\t}\n",
    "\t\treturn result;\n",
    "\t}\n",
    "\t\n",
    "\t// Question 3.2\n",
    "\t// Method of comparison necessary for the use of the sorting algorithm\n",
    "\t\n",
    "\tpublic int compareTo(Occurrence that) {\n",
    "\t\tif (this.count > that.count) return -1;\n",
    "\t\tif (this.count < that.count) return 1;\n",
    "\t\treturn this.word.compareTo(that.word);\n",
    "\t}\n",
    "\n",
    "\t// Question 3.2\n",
    "\t// Identical to the count(Singly<String> l) method except that the returned list\n",
    "\t// is sorted in descending order of multiplicity.\n",
    "\t\n",
    "\tstatic Singly<Occurrence> sortedCount(Singly<String> l) {\n",
    "\t\treturn MergeSort.sort(count(l));\n",
    "\t}\n",
    "}\n",
    "\n",
    "/* MERGE_SORT */\n",
    "\n",
    "// Generic version of MergeSortString\n",
    "// We replace the type \"String\" with the generic type \"E\" in the implementation of MergeSort\n",
    "\n",
    "class MergeSort {\n",
    "\t\n",
    "\t// Question 3.1\n",
    "\t// Identical to merge(Singly<String> l1, Singly<String> l2) with \"E\" instead of \"String\"\n",
    "\t\n",
    "\tpublic static<E extends Comparable<E>> Singly<E> merge(Singly<E> l1, Singly<E> l2) {\n",
    "\t\tif(l1 == null) return l2;\n",
    "\t\tif(l2 == null) return l1;\n",
    "\t\t\n",
    "\t\tSingly<E> result = l1.element.compareTo(l2.element) <= 0 ? l1 : l2;\n",
    "\t\tSingly<E> tmp;\n",
    "\t\twhile(1==1){\n",
    "\t\t\tif(l1.element.compareTo(l2.element) <= 0){\n",
    "\t\t\t\ttmp = l1;\n",
    "\t\t\t\twhile(tmp.next != null && tmp.next.element.compareTo(l2.element) <= 0){\n",
    "\t\t\t\t\ttmp = tmp.next;\n",
    "\t\t\t\t}\t\t\n",
    "\t\t\t\tl1 = tmp.next;\n",
    "\t\t\t\ttmp.next = l2;\t\t\n",
    "\t\t\t}\n",
    "\t\t\tif(l1 == null){\n",
    "\t\t\t\treturn result;\n",
    "\t\t\t}\n",
    "\t\t\t\n",
    "\t\t\tif(l2.element.compareTo(l1.element) <= 0){\n",
    "\t\t\t\ttmp = l2;\n",
    "\t\t\t\twhile(tmp.next != null && tmp.next.element.compareTo(l1.element) <= 0){\n",
    "\t\t\t\t\ttmp = tmp.next;\n",
    "\t\t\t\t}\t\t\n",
    "\t\t\t\tl2 = tmp.next;\n",
    "\t\t\t\ttmp.next = l1;\n",
    "\t\t\t}\n",
    "\t\t\tif(l2 == null){\n",
    "\t\t\t\treturn result;\n",
    "\t\t\t}\n",
    "\t\t}\n",
    "\t}\n",
    "\n",
    "\t// Question 3.1\n",
    "\t// Identical to sort(Singly<String> l) with \"E\" instead of \"String\"\n",
    "\t\n",
    "\tstatic<E extends Comparable<E>> Singly<E> sort(Singly<E> l) {\n",
    "\t\tif(l == null) return null;\n",
    "\t\tif(Singly.length(l) == 1) return l;\n",
    "\t\tif(Singly.length(l) == 2){\n",
    "\t\t\tif(l.element.compareTo(l.next.element) <= 0){\n",
    "\t\t\t\treturn l;\n",
    "\t\t\t}\n",
    "\t\t\tSingly<E> tmp = l.next;\n",
    "\t\t\ttmp.next = l;\n",
    "\t\t\tl.next = null;\n",
    "\t\t\treturn tmp;\n",
    "\t\t}\n",
    "\n",
    "\t\tSingly<E> second = Singly.split(l);\n",
    "\t\tl = sort(l);\n",
    "\t\tsecond = sort(second);\n",
    "\t\treturn merge(l, second);\n",
    "\t}\n",
    "\n",
    "}\n",
    "\n",
    "/* MEDIAN */\n",
    "\n",
    "class Median {\n",
    "\n",
    "\t// Question 3.3\n",
    "\t// Returns a median of the set of numerical values passed as an argument\n",
    "\t// in the form of a linked list.\n",
    "\n",
    "\t/*\n",
    "\twhich returns the range of possible medians as a pair. If the list is empty, the method returns\n",
    "\tthe pair whose two components are equal to the special value `Double.NaN` (an acronym for “Not a\n",
    "\tNumber”). \n",
    "\t*/\n",
    "\t\n",
    "\tstatic Pair<Double> median (Singly<Double> data) {\n",
    "\t\tint len = Singly.length(data);\n",
    "\t\tif(len == 0) return new Pair<Double>(Double.NaN,Double.NaN);\n",
    "\t\tdata = MergeSort.sort(data);\n",
    "\t\tSingly<Double> curr = data;\n",
    "\t\tfor(int i=1; i < (len+1)/2; i++){\n",
    "\t\t\tcurr = curr.next;\n",
    "\t\t}\n",
    "\t\tif(len % 2 == 0) return new Pair<Double>(curr.element, curr.next.element);\n",
    "\t\treturn new Pair<Double>(curr.element, curr.element);\n",
    "\t}\n",
    "}\n"
   ]
  },
  {
   "cell_type": "markdown",
   "id": "44da9461-cf87-4226-a752-9a5c0a1fb931",
   "metadata": {
    "editable": false,
    "slideshow": {
     "slide_type": ""
    },
    "tags": []
   },
   "source": [
    "## Test1"
   ]
  },
  {
   "cell_type": "code",
   "execution_count": 80,
   "id": "45abc5d2-7d03-40ed-a06f-f3cf14f18582",
   "metadata": {
    "editable": false,
    "slideshow": {
     "slide_type": ""
    },
    "tags": [],
    "vscode": {
     "languageId": "java"
    }
   },
   "outputs": [],
   "source": [
    "// Test1\n",
    "// Test length: iterative, not recursive\n",
    "public static boolean TestLength() {\n",
    "    Singly<Integer> chain;\n",
    "    // test lenght(null) == 0\n",
    "    chain = null;\n",
    "    assert (Singly.length(chain) == 0) : \"\\nerror : length(null) is euqal to \"+Singly.length(chain)+\" or the expected answer is 0\\n\";\t\t\n",
    "    // test lenght(ptr -> null) == 1\n",
    "    chain = new Singly<Integer>(1, null);\n",
    "    assert (Singly.length(chain) == 1) : \"\\nerror : length(l) is euqal to \"+Singly.length(chain)+\" or the expected answer is 1\\n\";\n",
    "    Integer[] data = new Integer[] {1,3};\n",
    "    chain = new Singly<Integer>(data);\n",
    "    assert (Singly.length(chain) == 2) : \"\\nerror : length(l) is euqal to \"+Singly.length(chain)+\" or the expected answer is 2\\n\";\n",
    "    \n",
    "    // test with 200000 values\n",
    "    int size_r = 200000;\n",
    "    Integer[] rndm = new Integer[size_r];\n",
    "    for (int i=0; i < size_r; i++)\n",
    "        rndm[i] = (int) Math.random()*size_r*2;\n",
    "    \n",
    "    chain = new Singly<Integer>(rndm);\n",
    "    // timing\n",
    "\n",
    "    \n",
    "    //long startTime = System.nanoTime();\n",
    "    int size_s = Singly.length(chain);\n",
    "    //long endTime = System.nanoTime();\n",
    "\n",
    "    //System.out.print(\"(length \"+size_s +\" calculated in \" + (endTime-startTime)/1000000.0 + \" ms) : \");\n",
    "    assert (size_s == size_r) : \"\\nerror : length(l) is euqal to \"+size_s+\" or the expected answer is \"+ size_r +\"\\n\";\n",
    "\n",
    "    return true;\n",
    "}\n",
    "\n",
    "// Test split\n",
    "public static <E> void TestSplit(E[] data, E[] first, E[] second) {\n",
    "    Singly<E> origin, chain1, chain2, answer1, answer2;\n",
    "    chain1 = data!=null?new Singly<E>(data):null;\n",
    "    origin = data!=null?new Singly<E>(data):null;\n",
    "    answer1 = first!=null?new Singly<E>(first):null;\n",
    "    answer2 = second!=null?new Singly<E>(second):null;\n",
    "    chain2 = Singly.split(chain1);\n",
    "    assert (Singly.areEqual(chain1, answer1)) : \"\\nThe original chain is\\n\"\n",
    "            + origin\n",
    "            + \"\\nThe initial segment should be\\n\"\n",
    "            + answer1 + \"\\nwhile it is\\n\"\n",
    "            + chain1;\n",
    "    assert (Singly.areEqual(chain2, answer2)) : \"\\nThe original chain is\\n\"\n",
    "            + origin + \"\\nThe final segment should be\\n\"\n",
    "            + answer2 + \"\\nwhile it is\\n\"\n",
    "            + chain2;\n",
    "}\t\n"
   ]
  },
  {
   "cell_type": "code",
   "execution_count": 81,
   "id": "230969f3-112a-4798-9432-1c12a354d53d",
   "metadata": {
    "editable": false,
    "slideshow": {
     "slide_type": ""
    },
    "tags": [],
    "vscode": {
     "languageId": "java"
    }
   },
   "outputs": [
    {
     "name": "stdout",
     "output_type": "stream",
     "text": [
      "Question 1\n",
      "If you programmed the \"length\" method recursively, the following test will trigger java.lang.StackOverflowError.\n",
      "Test of the method «length» [OK]\n",
      "Test of the method «split» : [OK]\n"
     ]
    }
   ],
   "source": [
    "\n",
    "System.out.println(\"Question 1\");\n",
    "System.out.println(\"If you programmed the \\\"length\\\" method recursively, the following test will trigger java.lang.StackOverflowError.\");\n",
    "System.out.print(\"Test of the method «length» \");\n",
    "TestLength();\n",
    "System.out.println(\"[OK]\");\n",
    "\n",
    "\n",
    "System.out.print(\"Test of the method «split» : \");\n",
    "//TestSplit(null, null, null);\n",
    "TestSplit(null, null, null);\n",
    "TestSplit(new String[] { \"one\" }, new String[] { \"one\" },\n",
    "        null);\n",
    "TestSplit(new String[] { \"one\", \"two\" }, new String[] { \"one\" },\n",
    "        new String[] { \"two\" });\n",
    "TestSplit(new String[] { \"one\", \"two\", \"three\" }, new String[] {\n",
    "        \"one\", \"two\" }, new String[] { \"three\" });\n",
    "TestSplit(new String[] { \"one\", \"two\", \"three\", \"four\" },\n",
    "        new String[] { \"one\", \"two\" }, new String[] { \"three\", \"four\" });\n",
    "TestSplit(new String[] { \"one\", \"two\", \"three\", \"four\",\"five\" },\n",
    "        new String[] { \"one\", \"two\",\"three\" }, new String[] {\"four\",\"five\"});\n",
    "TestSplit(new String[] { \"one\", \"two\", \"three\", \"four\",\"five\",\"six\" },\n",
    "        new String[] { \"one\", \"two\",\"three\" }, new String[] {\"four\",\"five\",\"six\" });\n",
    "System.out.println(\"[OK]\");"
   ]
  },
  {
   "cell_type": "markdown",
   "id": "40c2f2c0-8588-4ae4-8a31-89c7b307478e",
   "metadata": {
    "editable": false,
    "slideshow": {
     "slide_type": ""
    },
    "tags": []
   },
   "source": [
    "## Test22"
   ]
  },
  {
   "cell_type": "code",
   "execution_count": 82,
   "id": "9928adb5-26dc-4f8a-a28e-74277ee9c4b7",
   "metadata": {
    "editable": false,
    "slideshow": {
     "slide_type": ""
    },
    "tags": [],
    "vscode": {
     "languageId": "java"
    }
   },
   "outputs": [],
   "source": [
    "// Test22\n",
    "public static void merge(String[] input1, String[] input2, String[] expected) {\n",
    "    Singly<String> chain1 = input1!=null?new Singly<String>(input1):null;\n",
    "    Singly<String> chain2 = input2!=null?new Singly<String>(input2):null;\n",
    "    Singly<String> expandable_chain1 = input1!=null?new Singly<String>(input1):null;\n",
    "    Singly<String> expandable_chain2 = input2!=null?new Singly<String>(input2):null;\n",
    "    Singly<String> answer = expected!=null?new Singly<String>(expected):null;\n",
    "    Singly<String> output = MergeSortString.merge(expandable_chain1, expandable_chain2);\n",
    "    assert (Singly.areEqual(output, answer)) : \"\\n\"\n",
    "            + \"chain1 =\\n\"\n",
    "            + chain1\n",
    "            + \"\\n\"\n",
    "            + \"chain2 =\\n\"\n",
    "            + chain2\n",
    "            + \"\\n\"\n",
    "            + \"the merge of the two lists is\\n\"\n",
    "            + answer\n",
    "            + \"\\nwhile your merge implementation returns\\n\"\n",
    "            + output\n",
    "            ;\n",
    "}\n",
    "\n",
    "public static void sort(String[] input, String[] expected) {\n",
    "    Singly<String> chain = input!=null? new Singly<String>(input):null;\n",
    "    Singly<String> expandable_chain = input!=null? new Singly<String>(input):null;\n",
    "    Singly<String> answer = expected!=null? new Singly<String>(expected):null;\n",
    "    Singly<String> output = MergeSortString.sort(expandable_chain);\n",
    "    assert (Singly.areEqual(output, answer)) : \"\\n\" + \"The input string is\\n\"\n",
    "            + chain + \"\\n\" \n",
    "            + \"the sorted string is\\n\"\n",
    "            + answer + \"\\n\"\n",
    "            + \"while your sort implementation returns\\n\" + output + \"\\n\";\n",
    "}\n"
   ]
  },
  {
   "cell_type": "code",
   "execution_count": 83,
   "id": "884cd865-d1e1-4fb6-8377-ac0cc6240382",
   "metadata": {
    "editable": false,
    "slideshow": {
     "slide_type": ""
    },
    "tags": [],
    "vscode": {
     "languageId": "java"
    }
   },
   "outputs": [
    {
     "name": "stdout",
     "output_type": "stream",
     "text": [
      "Question 2.2\n",
      "Test of the method merge: [OK]\n",
      "Test of the method sort: [OK]\n"
     ]
    }
   ],
   "source": [
    "System.out.println(\"Question 2.2\");\n",
    "\n",
    "// Test of the merge method\n",
    "\n",
    "System.out.print(\"Test of the method merge: \");\n",
    "merge(null, null, null);\n",
    "merge(new String[] { \"Zoé\" }, new String[] { \"Albert\" },\n",
    "        new String[] { \"Albert\", \"Zoé\" });\n",
    "merge(null, new String[] { \"Albert\", \"Zoé\" },\n",
    "        new String[] { \"Albert\", \"Zoé\" });\n",
    "merge(new String[] { \"Albert\", \"Zoé\" }, null,\n",
    "        new String[] { \"Albert\", \"Zoé\" });\n",
    "merge(new String[] { \"banane\", \"cerise\", \"citron\", \"datte\",\n",
    "        \"figue\", \"grenade\", \"pamplemousse\", \"prune\" }, new String[] {\n",
    "        \"abricot\", \"cerise\", \"grenade\", \"pomme\" },\n",
    "        new String[] { \"abricot\", \"banane\", \"cerise\", \"cerise\",\n",
    "                \"citron\", \"datte\", \"figue\", \"grenade\", \"grenade\",\n",
    "                \"pamplemousse\", \"pomme\", \"prune\" });\n",
    "System.out.println(\"[OK]\");\n",
    "\n",
    "// Test of the method sort\n",
    "\n",
    "System.out.print(\"Test of the method sort: \");\n",
    "sort(null, null);\n",
    "String[] input = new String[] { \"OK\", \"KO\" };\n",
    "String[] output = new String[] { \"KO\", \"OK\" };\n",
    "sort(input, output);\n",
    "input = new String[] { \"ga\", \"bu\", \"zo\", \"ga\", \"zo\", \"ga\", \"bu\", \"ga\",\n",
    "        \"meu\", \"bu\" };\n",
    "output = new String[] { \"bu\", \"bu\", \"bu\", \"ga\", \"ga\", \"ga\", \"ga\",\n",
    "        \"meu\", \"zo\", \"zo\" };\n",
    "sort(input, output);\n",
    "System.out.println(\"[OK]\");\n"
   ]
  },
  {
   "cell_type": "markdown",
   "id": "9990c7ef-8631-4c2f-9d4d-c02ef2592765",
   "metadata": {
    "editable": false,
    "slideshow": {
     "slide_type": ""
    },
    "tags": []
   },
   "source": [
    "## Test23"
   ]
  },
  {
   "cell_type": "code",
   "execution_count": 84,
   "id": "30f0fb54-1962-4abe-bfdc-2316f9aff1e3",
   "metadata": {
    "editable": false,
    "slideshow": {
     "slide_type": ""
    },
    "tags": [],
    "vscode": {
     "languageId": "java"
    }
   },
   "outputs": [],
   "source": [
    "// Test23\n",
    "public static Integer find(Singly<Occurrence> occ, String word) {\n",
    "    while (occ != null) {\n",
    "        if (occ.element.word.equals(word))\n",
    "            return occ.element.count;\n",
    "        occ = occ.next;\n",
    "    }\n",
    "    return null;\n",
    "}\n",
    "\n",
    "private static void test(String textfile) throws FileNotFoundException {\n",
    "    Scanner sc = new Scanner(new File(textfile));\n",
    "    sc.useDelimiter(\"[\\\\p{javaWhitespace}\\\\p{Punct}]+\");\n",
    "    Singly<String> chain = null;\n",
    "    HashMap<String, Integer> dico = new HashMap<String, Integer>();\n",
    "    Integer n = null;\n",
    "    String current = null;\n",
    "    while (sc.hasNext()) {\n",
    "        current = sc.next();\n",
    "        chain = new Singly<String>(current, chain);\n",
    "        n = dico.get(current);\n",
    "        if (n != null)\n",
    "            dico.put(current, n + 1);\n",
    "        else\n",
    "            dico.put(current, 1);\n",
    "    }\n",
    "    sc.close();\n",
    "    Set<String> words = dico.keySet();\n",
    "    int nb_mots_diff = words.size();\n",
    "    Singly<String> chaincopy = Singly.copy(chain);\n",
    "    Singly<Occurrence> occ_list = Occurrence.count(chaincopy);\n",
    "    assert (Singly.length(occ_list) == nb_mots_diff) : \"\\nIl y a \"\n",
    "            + nb_mots_diff + \" different words while \"\n",
    "            + \"your counting algorithm in counts \"\n",
    "            + Singly.length(occ_list);\n",
    "    Singly<Occurrence> cursor = occ_list;\n",
    "    while (cursor != null) {\n",
    "        n = dico.get(cursor.element.word);\n",
    "        assert (n != null) : \"\\nthe word \\\"\" + cursor.element.word\n",
    "                + \"\\\" does not appear in the text\";\n",
    "        assert (n.equals(cursor.element.count)) : \"\\nThe text contains \"\n",
    "                + n + \" occurences of word \\\"\" + cursor.element.word\n",
    "                + \"\\\" but your program counts \"\n",
    "                + cursor.element.count;\n",
    "        cursor = cursor.next;\n",
    "    }\n",
    "    for (String word : words) {\n",
    "        assert (find(occ_list, word) != null) : \"\\n\" + \"the word \\\"\" + word\n",
    "                + \"\\\" appears in the text, but not in your count\";\n",
    "    }\n",
    "}\n",
    "\n"
   ]
  },
  {
   "cell_type": "code",
   "execution_count": 85,
   "id": "e9f0e62d-b535-493e-be00-ef5a125f4a77",
   "metadata": {
    "editable": false,
    "slideshow": {
     "slide_type": ""
    },
    "tags": [],
    "vscode": {
     "languageId": "java"
    }
   },
   "outputs": [
    {
     "name": "stdout",
     "output_type": "stream",
     "text": [
      "Question 2.3\n",
      "Testing the 'count' method, this test will take a few seconds:\n",
      "Word count of the text contained in the file 'dummy.txt'\n",
      "Word count of the novel 'Around the World in 80 Days' (J. Verne)\n",
      "Word count of the novel 'Dracula' (B. Stoker)\n",
      "Word count of the novel 'Ulysses' (J. Joyce)\n",
      "[OK]\n"
     ]
    }
   ],
   "source": [
    "System.out.println(\"Question 2.3\");\n",
    "\n",
    "System.out.println(\"Testing the 'count' method, this test will take a few seconds:\");\n",
    "// The empty list\n",
    "assert(Occurrence.count(null)==null) : \"The empty list case is handled incorrectly.\";\n",
    "// From text\n",
    "System.out.println(\"Word count of the text contained in the file 'dummy.txt'\");\n",
    "test(\"dummy.txt\");\n",
    "System.out.println(\"Word count of the novel 'Around the World in 80 Days' (J. Verne)\");\n",
    "test(\"ltdme80j.txt\");\n",
    "System.out.println(\"Word count of the novel 'Dracula' (B. Stoker)\");\n",
    "test(\"dracula.txt\");\n",
    "System.out.println(\"Word count of the novel 'Ulysses' (J. Joyce)\");\n",
    "test(\"ulysses.txt\");\n",
    "System.out.println(\"[OK]\");\n"
   ]
  },
  {
   "cell_type": "markdown",
   "id": "33a3c03a-208a-478e-9690-0c53522cf483",
   "metadata": {
    "editable": false,
    "slideshow": {
     "slide_type": ""
    },
    "tags": []
   },
   "source": [
    "## Test31"
   ]
  },
  {
   "cell_type": "code",
   "execution_count": 86,
   "id": "9a31c4ea-4036-466e-86a8-488441286a4b",
   "metadata": {
    "editable": false,
    "slideshow": {
     "slide_type": ""
    },
    "tags": [],
    "vscode": {
     "languageId": "java"
    }
   },
   "outputs": [],
   "source": [
    "// Test31\n",
    "public static <E extends Comparable<E>> void merge(E[] input1, E[] input2,\n",
    "        E[] expected) {\n",
    "    Singly<E> chain1 = input1 != null?new Singly<E>(input1):null;\n",
    "    Singly<E> chain2 = input2 != null?new Singly<E>(input2):null;\n",
    "    Singly<E> expandable_chain1 = input1 != null?new Singly<E>(input1):null;\n",
    "    Singly<E> expandable_chain2 = input2 != null?new Singly<E>(input2):null;\n",
    "    Singly<E> answer = expected != null?new Singly<E>(expected):null;\n",
    "    Singly<E> output = MergeSort.merge(expandable_chain1, expandable_chain2);\n",
    "    assert (Singly.areEqual(output, answer)) : \"\\n\"\n",
    "            + \"chain1 =\\n\" + chain1 + \"\\n\" + \"chain2 =\\n\"\n",
    "            + chain2 + \"\\n\" + \"the merge of the two lists is\\n\"\n",
    "            + answer + \"\\nwhile your merge implementation returns\\n\"\n",
    "            + output\n",
    "            ;\n",
    "}\n",
    "\n",
    "public static <E extends Comparable<E>> void sort(E[] input,\n",
    "        E[] expected) {\n",
    "    Singly<E> chain = input!=null?new Singly<E>(input):null;\n",
    "    Singly<E> expandable_chain = input!=null?new Singly<E>(input):null;\n",
    "    Singly<E> answer = expected != null?new Singly<E>(expected):null;\n",
    "    Singly<E> output = MergeSort.sort(expandable_chain);\n",
    "    assert (Singly.areEqual(answer, output)) : \"\\n\" + \"The input list is\\n\"\n",
    "            + chain + \"\\n\" + \"the list produced is\\n\"\n",
    "            + output + \"\\n\"\n",
    "            + \"while it should be\\n\" + answer\n",
    "            + \"\\n\";\n",
    "}\n"
   ]
  },
  {
   "cell_type": "code",
   "execution_count": 87,
   "id": "bdc98703-7a67-4281-8d2d-32ef8c725900",
   "metadata": {
    "editable": false,
    "slideshow": {
     "slide_type": ""
    },
    "tags": [],
    "vscode": {
     "languageId": "java"
    }
   },
   "outputs": [
    {
     "name": "stdout",
     "output_type": "stream",
     "text": [
      "Question 3.1\n",
      "Test of the merge method (generic version): [OK]\n",
      "Test of the sort method (generic version): [OK]\n"
     ]
    }
   ],
   "source": [
    "System.out.println(\"Question 3.1\");\n",
    "\n",
    "// Test of the merge method (generic version)\n",
    "\n",
    "System.out.print(\"Test of the merge method (generic version): \");\n",
    "merge(null, null, null);\n",
    "merge(new String[] { \"Zoé\" }, new String[] { \"Albert\" },\n",
    "        new String[] { \"Albert\", \"Zoé\" });\n",
    "merge(null, new String[] { \"Albert\", \"Zoé\" },\n",
    "        new String[] { \"Albert\", \"Zoé\" });\n",
    "merge(new String[] { \"Albert\", \"Zoé\" }, null,\n",
    "        new String[] { \"Albert\", \"Zoé\" });\n",
    "merge(new String[] { \"banane\", \"cerise\", \"citron\", \"datte\",\n",
    "        \"figue\", \"grenade\", \"pamplemousse\", \"prune\" }, new String[] {\n",
    "        \"abricot\", \"cerise\", \"grenade\", \"pomme\" },\n",
    "        new String[] { \"abricot\", \"banane\", \"cerise\", \"cerise\",\n",
    "                \"citron\", \"datte\", \"figue\", \"grenade\", \"grenade\",\n",
    "                \"pamplemousse\", \"pomme\", \"prune\" });\n",
    "System.out.println(\"[OK]\");\n",
    "\n",
    "// Test of the sort method (generic version)\n",
    "\n",
    "System.out.print(\"Test of the sort method (generic version): \");\n",
    "sort(null, null);\n",
    "String[] input = new String[] { \"OK\", \"KO\" };\n",
    "String[] output = new String[] { \"KO\", \"OK\" };\n",
    "sort(input, output);\n",
    "input = new String[] { \"ga\", \"bu\", \"zo\", \"ga\", \"zo\", \"ga\", \"bu\", \"ga\",\n",
    "        \"meu\", \"bu\" };\n",
    "output = new String[] { \"bu\", \"bu\", \"bu\", \"ga\", \"ga\", \"ga\", \"ga\",\n",
    "        \"meu\", \"zo\", \"zo\" };\n",
    "sort(input, output);\n",
    "System.out.println(\"[OK]\");"
   ]
  },
  {
   "cell_type": "markdown",
   "id": "01812638-739a-4aa8-b94e-c59636c162bb",
   "metadata": {
    "editable": false,
    "slideshow": {
     "slide_type": ""
    },
    "tags": []
   },
   "source": [
    "## Test32"
   ]
  },
  {
   "cell_type": "code",
   "execution_count": 88,
   "id": "8ec9c9eb-f2f5-422a-904a-72fc4a4cee0a",
   "metadata": {
    "editable": false,
    "slideshow": {
     "slide_type": ""
    },
    "tags": [],
    "vscode": {
     "languageId": "java"
    }
   },
   "outputs": [],
   "source": [
    "// Test32\n",
    "private static void test(String textfile) throws FileNotFoundException {\n",
    "    Scanner sc = new Scanner(new File(textfile));\n",
    "    sc.useDelimiter(\"[\\\\p{javaWhitespace}\\\\p{Punct}]+\");\n",
    "    Singly<String> chain = null;\n",
    "    HashMap<String, Integer> dico = new HashMap<String, Integer>();\n",
    "    Integer n = null;\n",
    "    String current = null;\n",
    "    while (sc.hasNext()) {\n",
    "        current = sc.next();\n",
    "        chain = new Singly<String>(current, chain);\n",
    "        n = dico.get(current);\n",
    "        if (n != null)\n",
    "            dico.put(current, n + 1);\n",
    "        else\n",
    "            dico.put(current, 1);\n",
    "    }\n",
    "    sc.close();\n",
    "    Set<String> words = dico.keySet();\n",
    "    int nb_mots_diff = words.size();\n",
    "    Singly<String> chaincopy = Singly.copy(chain);\n",
    "    Singly<Occurrence> occ_list = Occurrence.sortedCount(chaincopy);\n",
    "    assert (Singly.length(occ_list) == nb_mots_diff) : \"\\nIl y a \"\n",
    "            + nb_mots_diff + \" different words while \"\n",
    "            + \"your counting algorithm in counts \"\n",
    "            + Singly.length(occ_list);\n",
    "    Singly<Occurrence> cursor = occ_list;\n",
    "    while (cursor != null) {\n",
    "        n = dico.get(cursor.element.word);\n",
    "        assert (n != null):\"\\nThe word \\\"\"+cursor.element.word+\"\\\" does not appear in the text\";\n",
    "        assert (n.equals(cursor.element.count)) : \"\\nThe text contains \"\n",
    "                + n\n",
    "                + \" occurences of word \\\"\"\n",
    "                + cursor.element.word\n",
    "                + \"\\\" but your program counts \" + cursor.element.count;\n",
    "        if(cursor.next!=null){\n",
    "            assert(cursor.element.count>=cursor.next.element.count):\"\\n\"\n",
    "                +\"The word \\\"\"+cursor.next.element.word+\"\\\" is more common, so it should appear before the word \\\"\"+cursor.element.word+\"\\\"\";\t\t\t\t\n",
    "            if(cursor.element.count==cursor.next.element.count)\n",
    "            assert(cursor.element.word.compareTo(cursor.next.element.word)<0):\"\\n\"+\n",
    "                \"Les mots \\\"\"+cursor.element.word+\"\\\" and \\\"\"+cursor.next.element.word+\"\\\" have the same number of occurrences in the text, (\"\n",
    "                        +cursor.element.count+\" and \"+cursor.next.element.count+\") it should therefore appear in lexicographical order\";\n",
    "        }\n",
    "        cursor = cursor.next;\n",
    "    }\n",
    "    for(String word:words){\n",
    "        assert(find(occ_list,word) != null):\"\\n\"+\n",
    "    \"The word \\\"\"+word+\"\\\" appears in the text, but not in your count\";\n",
    "    }\n",
    "}\n"
   ]
  },
  {
   "cell_type": "code",
   "execution_count": 89,
   "id": "39b9190f-61c7-46db-8ce4-1594790574cf",
   "metadata": {
    "editable": false,
    "slideshow": {
     "slide_type": ""
    },
    "tags": [],
    "vscode": {
     "languageId": "java"
    }
   },
   "outputs": [
    {
     "name": "stdout",
     "output_type": "stream",
     "text": [
      "Test of the method 'sortedCount', this test will take a few seconds :\n",
      "Word count of the text contained in the file «dummy.txt»\n",
      "Word count of the novel 'Le tour du monde en 80 jours' (J. Verne)\n",
      "Word count of the novel 'Dracula' (B. Stoker)\n",
      "Word count of the novel 'Ulysses' (J. Joyce)\n",
      "[OK]\n"
     ]
    }
   ],
   "source": [
    "System.out.println(\"Test of the method 'sortedCount', this test will take a few seconds :\");\n",
    "// Empty list\n",
    "assert(Occurrence.sortedCount(null)==null) : \"The empty list case is poorly handled.\";\n",
    "// From text\n",
    "System.out.println(\"Word count of the text contained in the file «dummy.txt»\");\n",
    "test(\"dummy.txt\");\n",
    "System.out.println(\"Word count of the novel 'Le tour du monde en 80 jours' (J. Verne)\");\n",
    "test(\"ltdme80j.txt\");\n",
    "System.out.println(\"Word count of the novel 'Dracula' (B. Stoker)\");\n",
    "test(\"dracula.txt\");\n",
    "System.out.println(\"Word count of the novel 'Ulysses' (J. Joyce)\");\n",
    "test(\"ulysses.txt\");\n",
    "System.out.println(\"[OK]\");"
   ]
  },
  {
   "cell_type": "markdown",
   "id": "34c1865c-8d4e-49a4-b1ad-961a17ea534f",
   "metadata": {
    "editable": false,
    "slideshow": {
     "slide_type": ""
    },
    "tags": []
   },
   "source": [
    "## Test33"
   ]
  },
  {
   "cell_type": "code",
   "execution_count": 90,
   "id": "bcaf3f92-235c-43b3-ade6-87271e3a0ffd",
   "metadata": {
    "editable": false,
    "slideshow": {
     "slide_type": ""
    },
    "tags": [],
    "vscode": {
     "languageId": "java"
    }
   },
   "outputs": [],
   "source": [
    "// Test33\n",
    "private static void test(Double[] data, double min, double max) {\n",
    "    Singly<Double> chain = null;\n",
    "    if (data.length != 0)\n",
    "        chain = new Singly<Double>(data);\n",
    "    Singly<Double> chainbis = Singly.copy(chain);\n",
    "    Pair<Double> m = Median.median(chainbis);\n",
    "    assert (m.first.equals(min) && m.second.equals(max)) : \"\\n\"\n",
    "            + \"The sample median\\n\"\n",
    "            + chain\n",
    "            +\"\\nis in the interval [\"\n",
    "            + min\n",
    "            + \",\"\n",
    "            + max\n",
    "            + \"] while your program places the median in the interval [\"\n",
    "            + m.first + \",\" + m.second + \"]\";\n",
    "}\n"
   ]
  },
  {
   "cell_type": "code",
   "execution_count": 91,
   "id": "bf7effba-b8ea-4f75-b2a2-913c1742e49a",
   "metadata": {
    "editable": false,
    "slideshow": {
     "slide_type": ""
    },
    "tags": [],
    "vscode": {
     "languageId": "java"
    }
   },
   "outputs": [
    {
     "name": "stdout",
     "output_type": "stream",
     "text": [
      "Testing median: [OK]\n"
     ]
    }
   ],
   "source": [
    "System.out.print(\"Testing median: \");\n",
    "test(new Double[0], Double.NaN, Double.NaN);\n",
    "test(new Double[] { 1. }, 1., 1.);\n",
    "test(new Double[] { 2., 1. }, 1., 2.);\n",
    "test(new Double[] { 3., 3. }, 3., 3.);\n",
    "test(new Double[] { 1., 4., 3., 2. }, 2., 3.);\n",
    "test(new Double[] { 5., 2., 4., 1., 3. }, 3., 3.);\n",
    "test(new Double[] { 1.3, 0.7, 0.3, 2.1, 0.7 }, 0.7, 0.7);\n",
    "System.out.println(\"[OK]\");"
   ]
  }
 ],
 "metadata": {
  "kernelspec": {
   "display_name": "Java",
   "language": "java",
   "name": "java"
  },
  "language_info": {
   "codemirror_mode": "java",
   "file_extension": ".jshell",
   "mimetype": "text/x-java-source",
   "name": "Java",
   "pygments_lexer": "java",
   "version": "21.0.2+13-LTS-58"
  }
 },
 "nbformat": 4,
 "nbformat_minor": 5
}
